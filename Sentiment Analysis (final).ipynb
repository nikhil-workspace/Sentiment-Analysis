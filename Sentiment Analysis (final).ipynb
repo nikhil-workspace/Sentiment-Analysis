{
  "cells": [
    {
      "cell_type": "code",
      "execution_count": 1,
      "metadata": {
        "id": "8H02l0kXUsXR"
      },
      "outputs": [],
      "source": [
        "import pandas as pd\n",
        "import numpy as np\n",
        "import re\n",
        "import nltk\n",
        "import matplotlib.pyplot as plt\n",
        "import seaborn as sns\n",
        "\n",
        "from nltk.corpus import stopwords\n",
        "from nltk.stem import WordNetLemmatizer\n",
        "\n",
        "from sklearn.feature_extraction.text import TfidfVectorizer\n",
        "from sklearn.model_selection import train_test_split\n",
        "from sklearn.linear_model import LogisticRegression\n",
        "from sklearn.metrics import classification_report, confusion_matrix, accuracy_score"
      ]
    },
    {
      "cell_type": "code",
      "execution_count": 2,
      "metadata": {
        "colab": {
          "base_uri": "https://localhost:8080/"
        },
        "id": "ss9yY9dtYzRK",
        "outputId": "9a48e96a-d749-4e98-d9b2-27d0749d1ad9"
      },
      "outputs": [
        {
          "name": "stdout",
          "output_type": "stream",
          "text": [
            "                                              review sentiment\n",
            "0  One of the other reviewers has mentioned that ...  positive\n",
            "1  A wonderful little production. <br /><br />The...  positive\n",
            "2  I thought this was a wonderful way to spend ti...  positive\n",
            "3  Basically there's a family where a little boy ...  negative\n",
            "4  Petter Mattei's \"Love in the Time of Money\" is...  positive\n"
          ]
        }
      ],
      "source": [
        "# Load the dataset\n",
        "df = pd.read_csv('IMDB Dataset.csv')\n",
        "\n",
        "# Display the first few rows\n",
        "print(df.head())\n",
        "\n",
        "df['review'] = df['review'].apply(lambda x: f'\"{x}\"')"
      ]
    },
    {
      "cell_type": "markdown",
      "metadata": {
        "id": "g3vrgJbTacSt"
      },
      "source": [
        "Preprocessing"
      ]
    },
    {
      "cell_type": "code",
      "execution_count": 3,
      "metadata": {
        "colab": {
          "base_uri": "https://localhost:8080/"
        },
        "id": "ViJmWDeKY4RO",
        "outputId": "46f029d9-18b2-4cc5-8d0a-da555447b84a"
      },
      "outputs": [
        {
          "name": "stdout",
          "output_type": "stream",
          "text": [
            "review       0\n",
            "sentiment    0\n",
            "dtype: int64\n"
          ]
        }
      ],
      "source": [
        "# Check for missing values\n",
        "print(df.isnull().sum())\n",
        "df.dropna(inplace=True)"
      ]
    },
    {
      "cell_type": "code",
      "execution_count": 4,
      "metadata": {
        "colab": {
          "base_uri": "https://localhost:8080/"
        },
        "id": "ZZAF7_Hxavs7",
        "outputId": "0b0cbb87-3b35-4842-e90e-1a0aa631d187"
      },
      "outputs": [
        {
          "name": "stderr",
          "output_type": "stream",
          "text": [
            "[nltk_data] Downloading package stopwords to C:\\Users\\Nikhil\n",
            "[nltk_data]     Sharma\\AppData\\Roaming\\nltk_data...\n",
            "[nltk_data]   Package stopwords is already up-to-date!\n",
            "[nltk_data] Downloading package wordnet to C:\\Users\\Nikhil\n",
            "[nltk_data]     Sharma\\AppData\\Roaming\\nltk_data...\n",
            "[nltk_data]   Package wordnet is already up-to-date!\n"
          ]
        },
        {
          "name": "stdout",
          "output_type": "stream",
          "text": [
            "                                              review  \\\n",
            "0  \"One of the other reviewers has mentioned that...   \n",
            "1  \"A wonderful little production. <br /><br />Th...   \n",
            "2  \"I thought this was a wonderful way to spend t...   \n",
            "3  \"Basically there's a family where a little boy...   \n",
            "4  \"Petter Mattei's \"Love in the Time of Money\" i...   \n",
            "\n",
            "                                      cleaned_review sentiment  \n",
            "0  one reviewer mentioned watching oz episode you...  positive  \n",
            "1  wonderful little production filming technique ...  positive  \n",
            "2  thought wonderful way spend time hot summer we...  positive  \n",
            "3  basically there family little boy jake think t...  negative  \n",
            "4  petter matteis love time money visually stunni...  positive  \n"
          ]
        }
      ],
      "source": [
        "# Download NLTK data\n",
        "nltk.download('stopwords')\n",
        "nltk.download('wordnet')\n",
        "\n",
        "# Initialize stopwords and lemmatizer\n",
        "stop = set(stopwords.words('english'))\n",
        "lemmatizer = WordNetLemmatizer()\n",
        "\n",
        "def clean_text(text):\n",
        "    # Remove HTML tags\n",
        "    text = re.sub(r'<.*?>', '', text)\n",
        "    # Remove URLs\n",
        "    text = re.sub(r'http\\S+', '', text)\n",
        "    # Remove non-alphabetic characters\n",
        "    text = re.sub(r'[^a-zA-Z\\s]', '', text)\n",
        "    # Lowercase\n",
        "    text = text.lower()\n",
        "    # Tokenize\n",
        "    tokens = text.split()\n",
        "    # Remove stopwords and lemmatize\n",
        "    tokens = [lemmatizer.lemmatize(word) for word in tokens if word not in stop]\n",
        "    # Join back to string\n",
        "    cleaned_text = ' '.join(tokens)\n",
        "    return cleaned_text\n",
        "\n",
        "# Apply cleaning to the 'review' column\n",
        "df['cleaned_review'] = df['review'].apply(clean_text)\n",
        "\n",
        "# Display cleaned text\n",
        "print(df[['review', 'cleaned_review', 'sentiment']].head())"
      ]
    },
    {
      "cell_type": "code",
      "execution_count": 5,
      "metadata": {
        "colab": {
          "base_uri": "https://localhost:8080/",
          "height": 472
        },
        "id": "c2-mbgA4a74n",
        "outputId": "63e42194-7d34-4dc2-f6ff-a6f16f9ea3c1"
      },
      "outputs": [
        {
          "data": {
            "image/png": "[encoded data removed]",
            "text/plain": [
              "<Figure size 640x480 with 1 Axes>"
            ]
          },
          "metadata": {},
          "output_type": "display_data"
        }
      ],
      "source": [
        "# Count of sentiments\n",
        "sns.countplot(x='sentiment', data=df)\n",
        "plt.title('Sentiment Distribution')\n",
        "plt.show()"
      ]
    },
    {
      "cell_type": "code",
      "execution_count": 6,
      "metadata": {
        "id": "MTc_zLmIbj2l"
      },
      "outputs": [],
      "source": [
        "# Initialize TF-IDF Vectorizer\n",
        "tfidf = TfidfVectorizer(max_features=5000)\n",
        "\n",
        "# Fit and transform the cleaned reviews\n",
        "X = tfidf.fit_transform(df['cleaned_review']).toarray()\n",
        "\n",
        "# Encode target variable\n",
        "y = df['sentiment'].map({'positive':1, 'negative':0}).values"
      ]
    },
    {
      "cell_type": "code",
      "execution_count": 7,
      "metadata": {
        "id": "vuKGqvAtbnyn"
      },
      "outputs": [],
      "source": [
        "# Split the data\n",
        "X_train, X_test, y_train, y_test = train_test_split(X, y, test_size=0.2, random_state=42)\n",
        "\n",
        "# Initialize the model\n",
        "model = LogisticRegression(max_iter=1000)\n",
        "\n",
        "# Train the model\n",
        "model.fit(X_train, y_train)\n",
        "\n",
        "# Make predictions\n",
        "y_pred = model.predict(X_test)"
      ]
    },
    {
      "cell_type": "code",
      "execution_count": 8,
      "metadata": {
        "colab": {
          "base_uri": "https://localhost:8080/",
          "height": 690
        },
        "id": "VNIQaL2Hb_t0",
        "outputId": "661c0e9b-65a3-410e-f401-5152db1fd810"
      },
      "outputs": [
        {
          "name": "stdout",
          "output_type": "stream",
          "text": [
            "Accuracy: 88.48%\n",
            "\n",
            "Classification Report:\n",
            "              precision    recall  f1-score   support\n",
            "\n",
            "           0       0.89      0.87      0.88      4961\n",
            "           1       0.88      0.90      0.89      5039\n",
            "\n",
            "    accuracy                           0.88     10000\n",
            "   macro avg       0.89      0.88      0.88     10000\n",
            "weighted avg       0.89      0.88      0.88     10000\n",
            "\n"
          ]
        },
        {
          "data": {
            "image/png": "[encoded data removed]",
            "text/plain": [
              "<Figure size 640x480 with 2 Axes>"
            ]
          },
          "metadata": {},
          "output_type": "display_data"
        }
      ],
      "source": [
        "# Accuracy\n",
        "accuracy = accuracy_score(y_test, y_pred)\n",
        "print(f'Accuracy: {accuracy*100:.2f}%')\n",
        "\n",
        "# Classification Report\n",
        "print('\\nClassification Report:')\n",
        "print(classification_report(y_test, y_pred))\n",
        "\n",
        "# Confusion Matrix\n",
        "cm = confusion_matrix(y_test, y_pred)\n",
        "sns.heatmap(cm, annot=True, fmt='d', cmap='Blues',\n",
        "            xticklabels=['Negative', 'Positive'],\n",
        "            yticklabels=['Negative', 'Positive'])\n",
        "plt.xlabel('Predicted')\n",
        "plt.ylabel('Actual')\n",
        "plt.title('Confusion Matrix')\n",
        "plt.show()"
      ]
    },
    {
      "cell_type": "code",
      "execution_count": 9,
      "metadata": {
        "id": "fTVJyBr0cJ8K"
      },
      "outputs": [],
      "source": [
        "def predict_sentiment(review):\n",
        "    # Clean the review\n",
        "    cleaned = clean_text(review)\n",
        "    # Vectorize\n",
        "    vect = tfidf.transform([cleaned]).toarray()\n",
        "    # Predict\n",
        "    prediction = model.predict(vect)\n",
        "    # Return sentiment\n",
        "    return 'Positive' if prediction[0] == 1 else 'Negative'"
      ]
    },
    {
      "cell_type": "code",
      "execution_count": 10,
      "metadata": {
        "id": "Za3I4D12d_th"
      },
      "outputs": [],
      "source": [
        "import pickle\n",
        "\n",
        "# Save the model\n",
        "with open('model.pkl', 'wb') as model_file:\n",
        "    pickle.dump(model, model_file)\n",
        "\n",
        "# Save the TF-IDF vectorizer\n",
        "with open('tfidf_vectorizer.pkl', 'wb') as vectorizer_file:\n",
        "    pickle.dump(tfidf, vectorizer_file)"
      ]
    },
    {
      "cell_type": "code",
      "execution_count": 11,
      "metadata": {
        "colab": {
          "base_uri": "https://localhost:8080/"
        },
        "id": "sPPCppn_tUss",
        "outputId": "44a9bcf2-caea-4ece-e599-470da51e86d7"
      },
      "outputs": [
        {
          "name": "stdout",
          "output_type": "stream",
          "text": [
            "Predicted Sentiment: Negative\n"
          ]
        }
      ],
      "source": [
        "user_review = input(\"Enter a movie review for sentiment analysis: \")\n",
        "predicted_sentiment = predict_sentiment(user_review)\n",
        "print(f\"Predicted Sentiment: {predicted_sentiment}\")"
      ]
    }
  ],
  "metadata": {
    "colab": {
      "provenance": []
    },
    "kernelspec": {
      "display_name": "base",
      "language": "python",
      "name": "python3"
    },
    "language_info": {
      "codemirror_mode": {
        "name": "ipython",
        "version": 3
      },
      "file_extension": ".py",
      "mimetype": "text/x-python",
      "name": "python",
      "nbconvert_exporter": "python",
      "pygments_lexer": "ipython3",
      "version": "3.12.4"
    }
  },
  "nbformat": 4,
  "nbformat_minor": 0
}
